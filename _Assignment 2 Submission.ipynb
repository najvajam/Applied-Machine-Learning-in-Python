{
 "cells": [
  {
   "cell_type": "code",
   "execution_count": 26,
   "metadata": {
    "scrolled": false
   },
   "outputs": [],
   "source": [
    "import numpy as np\n",
    "import pandas as pd\n",
    "from sklearn.model_selection import train_test_split\n",
    "\n",
    "\n",
    "np.random.seed(0)\n",
    "n = 15\n",
    "x = np.linspace(0,10,n) + np.random.randn(n)/5\n",
    "y = np.sin(x)+x/6 + np.random.randn(n)/10\n",
    "\n",
    "\n",
    "X_train, X_test, y_train, y_test = train_test_split(x, y, random_state=0)\n",
    "\n",
    "def part1_scatter():\n",
    "    import matplotlib.pyplot as plt\n",
    "    %matplotlib notebook\n",
    "    plt.figure()\n",
    "    plt.scatter(X_train, y_train, label='training data')\n",
    "    plt.scatter(X_test, y_test, label='test data')\n",
    "    plt.legend(loc=4);\n",
    "    \n",
    "    \n"
   ]
  },
  {
   "cell_type": "code",
   "execution_count": 17,
   "metadata": {},
   "outputs": [
    {
     "data": {
      "text/plain": [
       "(4, 100)"
      ]
     },
     "execution_count": 17,
     "metadata": {},
     "output_type": "execute_result"
    }
   ],
   "source": [
    "from sklearn.linear_model import LinearRegression\n",
    "from sklearn.preprocessing import PolynomialFeatures\n",
    "def answer_one():\n",
    "    x_1 = x.reshape(-1,1)  # change x into columns vector\n",
    "    y_1 = y.reshape(-1,1)\n",
    "    result = []\n",
    "    for i in [1,3,6,9]:\n",
    "        poly = PolynomialFeatures(degree = i )\n",
    "        x_p = poly.fit_transform(x_1)\n",
    "        X_train, X_test, y_train, y_test = train_test_split( x_p, y ,random_state =0 )\n",
    "        linreg = LinearRegression().fit(X_train, y_train)\n",
    "        to_predict = poly.fit_transform(np.linspace(0,10,100).reshape(-1,1))\n",
    "        result.append(linreg.predict(to_predict).reshape(1,100)[0])\n",
    "    result=np.array(result)\n",
    "    return result\n",
    "answer_one().shape"
   ]
  },
  {
   "cell_type": "code",
   "execution_count": 18,
   "metadata": {},
   "outputs": [],
   "source": [
    "\n",
    "def plot_one(degree_predictions):\n",
    "    import matplotlib.pyplot as plt\n",
    "    %matplotlib notebook\n",
    "    plt.figure(figsize=(10,5))\n",
    "    plt.plot(X_train, y_train, 'o', label='training data', markersize=10)\n",
    "    plt.plot(X_test, y_test, 'o', label='test data', markersize=10)\n",
    "    for i,degree in enumerate([1,3,6,9]):\n",
    "        plt.plot(np.linspace(0,10,100), degree_predictions[i], alpha=0.8, lw=2, label='degree={}'.format(degree))\n",
    "    plt.ylim(-1,2.5)\n",
    "    plt.legend(loc=4)\n",
    "\n",
    "#plot_one(answer_one())"
   ]
  },
  {
   "cell_type": "code",
   "execution_count": 19,
   "metadata": {},
   "outputs": [
    {
     "data": {
      "text/plain": [
       "([0.0,\n",
       "  0.42924577812346632,\n",
       "  0.4510998044408247,\n",
       "  0.58719953687798476,\n",
       "  0.91941944717693158,\n",
       "  0.97578641430681867,\n",
       "  0.99018233247950882,\n",
       "  0.99352509278402779,\n",
       "  0.99637545387745396,\n",
       "  0.99803706256582003],\n",
       " [-0.47808641737141788,\n",
       "  -0.45237104233936676,\n",
       "  -0.068569841499158901,\n",
       "  0.0053310529457279987,\n",
       "  0.73004942818715057,\n",
       "  0.87708300916504855,\n",
       "  0.9214093981277145,\n",
       "  0.92021504118071573,\n",
       "  0.63247943762578418,\n",
       "  -0.64525446868451841])"
      ]
     },
     "execution_count": 19,
     "metadata": {},
     "output_type": "execute_result"
    }
   ],
   "source": [
    "def answer_two():\n",
    "    from sklearn.linear_model import LinearRegression\n",
    "    from sklearn.preprocessing import PolynomialFeatures\n",
    "    from sklearn.metrics.regression import r2_score\n",
    "    r2_train = []\n",
    "    r2_test = []\n",
    "    for i in range(10):\n",
    "        poly = PolynomialFeatures(degree = i)\n",
    "        x_p = poly.fit_transform(X_train.reshape(-1,1))\n",
    "        x_p_t = poly.fit_transform(X_test.reshape(-1,1))\n",
    "        linreg = LinearRegression().fit(x_p,y_train.reshape(-1,1))\n",
    "        r2_train.append(linreg.score(x_p,y_train.reshape(-1,1)))\n",
    "        r2_test.append(linreg.score(x_p_t, y_test.reshape(-1,1)))\n",
    "    return (r2_train,r2_test)\n",
    "answer_two()"
   ]
  },
  {
   "cell_type": "code",
   "execution_count": 20,
   "metadata": {},
   "outputs": [
    {
     "data": {
      "text/plain": [
       "(0, 9, 7)"
      ]
     },
     "execution_count": 20,
     "metadata": {},
     "output_type": "execute_result"
    }
   ],
   "source": [
    "'''%matplotlib notebook\n",
    "import matplotlib.pyplot as plt\n",
    "plt.figure()\n",
    "plt.plot(answer_two()[0],'r-')\n",
    "plt.plot(answer_two()[1],'b-')'''\n",
    "def answer_three():\n",
    "    return (0,9,7)\n",
    "answer_three()"
   ]
  },
  {
   "cell_type": "code",
   "execution_count": 31,
   "metadata": {},
   "outputs": [
    {
     "name": "stderr",
     "output_type": "stream",
     "text": [
      "/opt/conda/lib/python3.5/site-packages/sklearn/linear_model/coordinate_descent.py:484: ConvergenceWarning: Objective did not converge. You might want to increase the number of iterations. Fitting data with very small alpha may cause precision problems.\n",
      "  ConvergenceWarning)\n"
     ]
    },
    {
     "data": {
      "text/plain": [
       "(-4.3119904517942373, 0.8406625614750235)"
      ]
     },
     "execution_count": 31,
     "metadata": {},
     "output_type": "execute_result"
    }
   ],
   "source": [
    "def answer_four():\n",
    "    from sklearn.preprocessing import PolynomialFeatures\n",
    "    from sklearn.linear_model import Lasso, LinearRegression\n",
    "    from sklearn.metrics.regression import r2_score\n",
    "    poly = PolynomialFeatures(degree = 12)\n",
    "    X_p = poly.fit_transform(X_train.reshape(-1,1))\n",
    "    X_p_t = poly.fit_transform(X_test.reshape(-1,1))\n",
    "    linreg = LinearRegression().fit(X_p,y_train.reshape(-1,1))\n",
    "    lassoreg = Lasso(alpha = 0.01, max_iter = 10000).fit(X_p,y_train.reshape(-1,1))\n",
    "    LinearRegression_R2_test_score = linreg.score(X_p_t,y_test.reshape(-1,1))\n",
    "    Lasso_R2_test_score = lassoreg.score(X_p_t,y_test.reshape(-1,1))\n",
    "    return (LinearRegression_R2_test_score, Lasso_R2_test_score)\n",
    "answer_four()"
   ]
  },
  {
   "cell_type": "code",
   "execution_count": null,
   "metadata": {},
   "outputs": [],
   "source": [
    "import pandas as pd\n",
    "import numpy as np\n",
    "from sklearn.model_selection import train_test_split\n",
    "\n",
    "\n",
    "mush_df = pd.read_csv('mushrooms.csv')\n",
    "mush_df2 = pd.get_dummies(mush_df)\n",
    "\n",
    "X_mush = mush_df2.iloc[:,2:]\n",
    "y_mush = mush_df2.iloc[:,1]\n",
    "\n",
    "# use the variables X_train2, y_train2 for Question 5\n",
    "X_train2, X_test2, y_train2, y_test2 = train_test_split(X_mush, y_mush, random_state=0)\n",
    "\n",
    "\n",
    "X_subset = X_test2\n",
    "y_subset = y_test2"
   ]
  },
  {
   "cell_type": "code",
   "execution_count": 43,
   "metadata": {},
   "outputs": [
    {
     "data": {
      "text/plain": [
       "['odor_n', 'stalk-root_c', 'stalk-root_r', 'spore-print-color_r', 'odor_l']"
      ]
     },
     "execution_count": 43,
     "metadata": {},
     "output_type": "execute_result"
    }
   ],
   "source": [
    "def answer_five():\n",
    "    from sklearn.tree import DecisionTreeClassifier\n",
    "    clf = DecisionTreeClassifier(random_state=0).fit(X_train2,y_train2)\n",
    "    f_i = pd.Series(clf.feature_importances_,index = list(X_train2.columns))\n",
    "    f_i.sort_values(ascending =False, inplace = True)\n",
    "    return list(f_i.index[:5])\n",
    "answer_five()"
   ]
  },
  {
   "cell_type": "code",
   "execution_count": 51,
   "metadata": {},
   "outputs": [
    {
     "data": {
      "text/plain": [
       "(array([ 0.56647847,  0.93155951,  0.99039881,  1.        ,  1.        ,  1.        ]),\n",
       " array([ 0.56768547,  0.92959558,  0.98965952,  1.        ,  0.99507994,\n",
       "         0.52240279]))"
      ]
     },
     "execution_count": 51,
     "metadata": {},
     "output_type": "execute_result"
    }
   ],
   "source": [
    "def answer_six():\n",
    "    from sklearn.svm import SVC\n",
    "    from sklearn.model_selection import validation_curve\n",
    "    param_range = np.logspace(-4, 1, 6)\n",
    "    train_scores, test_scores = validation_curve(SVC(kernel='rbf', C=1, random_state = 0), X_subset, y_subset,\n",
    "                                            param_name='gamma',\n",
    "                                            param_range=param_range, cv=3, scoring = \"accuracy\")\n",
    "    training_scores = train_scores.mean(axis=1)\n",
    "    test_scores = test_scores.mean(axis=1)\n",
    "    return (training_scores, test_scores)\n",
    "answer_six()"
   ]
  },
  {
   "cell_type": "code",
   "execution_count": 1,
   "metadata": {},
   "outputs": [
    {
     "data": {
      "text/plain": [
       "(0.0001, 10, 0.1)"
      ]
     },
     "execution_count": 1,
     "metadata": {},
     "output_type": "execute_result"
    }
   ],
   "source": [
    "'''%matplotlib notebook\n",
    "import matplotlib.pyplot as plt\n",
    "plt.figure()\n",
    "plt.plot([ 0.56647847,  0.93155951,  0.99039881,  1.        ,  1.        ,  1.        ],'r-')\n",
    "plt.plot([ 0.56768547,  0.92959558,  0.98965952,  1.        ,  0.99507994, 0.52240279],'b-')'''\n",
    "def answer_seven():\n",
    "    \n",
    "    return (0.0001,10,0.1)\n",
    "answer_seven()"
   ]
  },
  {
   "cell_type": "code",
   "execution_count": null,
   "metadata": {
    "collapsed": true
   },
   "outputs": [],
   "source": []
  }
 ],
 "metadata": {
  "coursera": {
   "course_slug": "python-machine-learning",
   "graded_item_id": "eWYHL",
   "launcher_item_id": "BAqef",
   "part_id": "fXXRp"
  },
  "kernelspec": {
   "display_name": "Python 3",
   "language": "python",
   "name": "python3"
  },
  "language_info": {
   "codemirror_mode": {
    "name": "ipython",
    "version": 3
   },
   "file_extension": ".py",
   "mimetype": "text/x-python",
   "name": "python",
   "nbconvert_exporter": "python",
   "pygments_lexer": "ipython3",
   "version": "3.8.8"
  }
 },
 "nbformat": 4,
 "nbformat_minor": 2
}
